{
 "cells": [
  {
   "cell_type": "markdown",
   "source": [
    "Before start working on the problems, here is a small example to help you understand how to write your own answers. In short, the solution should be written within the function body given, and the final result should be returned. Then the autograder will try to call the function and validate your returned result accordingly\n"
   ],
   "metadata": {
    "collapsed": false,
    "pycharm": {
     "name": "#%% md\n"
    }
   }
  },
  {
   "cell_type": "code",
   "execution_count": 6,
   "outputs": [
    {
     "data": {
      "text/plain": "5"
     },
     "execution_count": 6,
     "metadata": {},
     "output_type": "execute_result"
    }
   ],
   "source": [
    "def example_word_count():\n",
    "    example_string = \"Amy is 5 years old\"\n",
    "    result = example_string.split(\" \")\n",
    "    return len(result)\n",
    "example_word_count()"
   ],
   "metadata": {
    "collapsed": false,
    "pycharm": {
     "name": "#%%\n"
    }
   }
  },
  {
   "cell_type": "markdown",
   "source": [
    "## Part A\n",
    "\n",
    "Find a list of all the names in the following string using regex."
   ],
   "metadata": {
    "collapsed": false,
    "pycharm": {
     "name": "#%% md\n"
    }
   }
  },
  {
   "cell_type": "code",
   "execution_count": 7,
   "outputs": [
    {
     "data": {
      "text/plain": "['Amy', 'Mary', 'Ruth', 'Peter']"
     },
     "execution_count": 7,
     "metadata": {},
     "output_type": "execute_result"
    }
   ],
   "source": [
    "import re\n",
    "def names():\n",
    "    simple_string = \"\"\"Amy is 5 years old, and her sister Mary is 2 years old.\n",
    "    Ruth and Peter, their parents, have 3 kids.\"\"\"\n",
    "\n",
    "    # YOUR CODE HERE\n",
    "    return re.findall(\"Amy|Mary|Ruth|Peter\", simple_string)\n",
    "names()"
   ],
   "metadata": {
    "collapsed": false,
    "pycharm": {
     "name": "#%%\n"
    }
   }
  },
  {
   "cell_type": "code",
   "execution_count": 8,
   "outputs": [],
   "source": [
    "assert len(names()) == 4, \"There are four names in the simple_string\""
   ],
   "metadata": {
    "collapsed": false,
    "pycharm": {
     "name": "#%%\n"
    }
   }
  },
  {
   "cell_type": "markdown",
   "source": [
    "## Part B\n",
    "\n",
    "The dataset file in [assets/grades.txt](assets/grades.txt) contains a line separated list of people with their grade in a class. Create a regex to generate a list of just those students who received a B in the course."
   ],
   "metadata": {
    "collapsed": false,
    "pycharm": {
     "name": "#%% md\n"
    }
   }
  },
  {
   "cell_type": "code",
   "execution_count": 9,
   "outputs": [
    {
     "data": {
      "text/plain": "['Bell Kassulke',\n 'Simon Loidl',\n 'Elias Jovanovic',\n 'Hakim Botros',\n 'Emilie Lorentsen',\n 'Jake Wood',\n 'Fatemeh Akhtar',\n 'Kim Weston',\n 'Yasmin Dar',\n 'Viswamitra Upandhye',\n 'Killian Kaufman',\n 'Elwood Page',\n 'Elodie Booker',\n 'Adnan Chen',\n 'Hank Spinka',\n 'Hannah Bayer']"
     },
     "execution_count": 9,
     "metadata": {},
     "output_type": "execute_result"
    }
   ],
   "source": [
    "import re\n",
    "def grades():\n",
    "    with open (\"assets/grades.txt\", \"r\") as file:\n",
    "        grades = file.read()\n",
    "\n",
    "    w = '([A-Z][a-z]+ [A-Z][a-z]+): B'\n",
    "    grades = re.findall(w , grades)\n",
    "    return grades\n",
    "grades()"
   ],
   "metadata": {
    "collapsed": false,
    "pycharm": {
     "name": "#%%\n"
    }
   }
  },
  {
   "cell_type": "code",
   "execution_count": 10,
   "outputs": [],
   "source": [
    "assert len(grades()) == 16"
   ],
   "metadata": {
    "collapsed": false,
    "pycharm": {
     "name": "#%%\n"
    }
   }
  },
  {
   "cell_type": "markdown",
   "source": [
    "## Part C\n",
    "\n",
    "Consider the standard web log file in [assets/logdata.txt](assets/logdata.txt). This file records the access a user makes when visiting a web page (like this one!). Each line of the log has the following items:\n",
    "\n",
    "* a host (e.g., '146.204.224.152')\n",
    "* a user_name (e.g., 'feest6811' **note: sometimes the user name is missing! In this case, use '-' as the value for the username.**)\n",
    "* the time a request was made (e.g., '21/Jun/2019:15:45:24 -0700')\n",
    "* the post request type (e.g., 'POST /incentivize HTTP/1.1' **note: not everything is a POST!**)\n",
    "\n",
    "Your task is to convert this into a list of dictionaries, where each dictionary looks like the following:\n",
    "```\n",
    "example_dict = {\"host\":\"146.204.224.152\",\n",
    "                \"user_name\":\"feest6811\",\n",
    "                \"time\":\"21/Jun/2019:15:45:24 -0700\",\n",
    "                \"request\":\"POST /incentivize HTTP/1.1\"}\n",
    "```"
   ],
   "metadata": {
    "collapsed": false,
    "pycharm": {
     "name": "#%% md\n"
    }
   }
  },
  {
   "cell_type": "code",
   "execution_count": 14,
   "outputs": [
    {
     "data": {
      "text/plain": "[{'host': '146.204.224.152',\n  'user_name': 'feest6811',\n  'time': '21/Jun/2019:15:45:24 -0700',\n  'request': 'POST /incentivize HTTP/1.1'},\n {'host': '197.109.77.178',\n  'user_name': 'kertzmann3129',\n  'time': '21/Jun/2019:15:45:25 -0700',\n  'request': 'DELETE /virtual/solutions/target/web+services HTTP/2.0'},\n {'host': '156.127.178.177',\n  'user_name': 'okuneva5222',\n  'time': '21/Jun/2019:15:45:27 -0700',\n  'request': 'DELETE /interactive/transparent/niches/revolutionize HTTP/1.1'},\n {'host': '100.32.205.59',\n  'user_name': 'ortiz8891',\n  'time': '21/Jun/2019:15:45:28 -0700',\n  'request': 'PATCH /architectures HTTP/1.0'},\n {'host': '168.95.156.240',\n  'user_name': 'stark2413',\n  'time': '21/Jun/2019:15:45:31 -0700',\n  'request': 'GET /engage HTTP/2.0'}]"
     },
     "execution_count": 14,
     "metadata": {},
     "output_type": "execute_result"
    }
   ],
   "source": [
    "import re\n",
    "def logs():\n",
    "    with open(\"assets/logdata.txt\", \"r\") as file:\n",
    "        logdata = file.read()\n",
    "\n",
    "    # YOUR CODE HERE\n",
    "    logs = []\n",
    "    w = '(?P<host>(?:\\d+\\.){3}\\d+)\\s+(?:\\S+)\\s+(?P<user_name>\\S+)\\s+\\[(?P<time>[-+\\w\\s:/]+)\\]\\s+\"(?P<request>.+?.+?)\"'\n",
    "    for m in re.finditer(w, logdata):\n",
    "        logs.append(m.groupdict())\n",
    "    return logs\n",
    "logs()[:5]"
   ],
   "metadata": {
    "collapsed": false,
    "pycharm": {
     "name": "#%%\n"
    }
   }
  },
  {
   "cell_type": "code",
   "execution_count": 12,
   "outputs": [],
   "source": [
    "assert len(logs()) == 979\n",
    "\n",
    "one_item={'host': '146.204.224.152',\n",
    "  'user_name': 'feest6811',\n",
    "  'time': '21/Jun/2019:15:45:24 -0700',\n",
    "  'request': 'POST /incentivize HTTP/1.1'}\n",
    "assert one_item in logs(), \"Sorry, this item should be in the log results, check your formating\""
   ],
   "metadata": {
    "collapsed": false,
    "pycharm": {
     "name": "#%%\n"
    }
   }
  },
  {
   "cell_type": "code",
   "execution_count": null,
   "outputs": [],
   "source": [],
   "metadata": {
    "collapsed": false,
    "pycharm": {
     "name": "#%%\n"
    }
   }
  }
 ],
 "metadata": {
  "kernelspec": {
   "display_name": "Python 3",
   "language": "python",
   "name": "python3"
  },
  "language_info": {
   "codemirror_mode": {
    "name": "ipython",
    "version": 2
   },
   "file_extension": ".py",
   "mimetype": "text/x-python",
   "name": "python",
   "nbconvert_exporter": "python",
   "pygments_lexer": "ipython2",
   "version": "2.7.6"
  }
 },
 "nbformat": 4,
 "nbformat_minor": 0
}