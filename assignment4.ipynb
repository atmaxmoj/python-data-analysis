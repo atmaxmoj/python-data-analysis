{
 "cells": [
  {
   "cell_type": "markdown",
   "source": [
    "# Assignment 4\n",
    "## Description\n",
    "In this assignment you must read in a file of metropolitan regions and associated sports teams from [assets/wikipedia_data.html](assets/wikipedia_data.html) and answer some questions about each metropolitan region. Each of these regions may have one or more teams from the \"Big 4\": NFL (football, in [assets/nfl.csv](assets/nfl.csv)), MLB (baseball, in [assets/mlb.csv](assets/mlb.csv)), NBA (basketball, in [assets/nba.csv](assets/nba.csv) or NHL (hockey, in [assets/nhl.csv](assets/nhl.csv)). Please keep in mind that all questions are from the perspective of the metropolitan region, and that this file is the \"source of authority\" for the location of a given sports team. Thus teams which are commonly known by a different area (e.g. \"Oakland Raiders\") need to be mapped into the metropolitan region given (e.g. San Francisco Bay Area). This will require some human data understanding outside of the data you've been given (e.g. you will have to hand-code some names, and might need to google to find out where teams are)!\n",
    "\n",
    "For each sport I would like you to answer the question: **what is the win/loss ratio's correlation with the population of the city it is in?** Win/Loss ratio refers to the number of wins over the number of wins plus the number of losses. Remember that to calculate the correlation with [`pearsonr`](https://docs.scipy.org/doc/scipy/reference/generated/scipy.stats.pearsonr.html), so you are going to send in two ordered lists of values, the populations from the wikipedia_data.html file and the win/loss ratio for a given sport in the same order. Average the win/loss ratios for those cities which have multiple teams of a single sport. Each sport is worth an equal amount in this assignment (20%\\*4=80%) of the grade for this assignment. You should only use data **from year 2018** for your analysis -- this is important!\n",
    "\n",
    "## Notes\n",
    "\n",
    "1. Do not include data about the MLS or CFL in any of the work you are doing, we're only interested in the Big 4 in this assignment.\n",
    "2. I highly suggest that you first tackle the four correlation questions in order, as they are all similar and worth the majority of grades for this assignment. This is by design!\n",
    "3. It's fair game to talk with peers about high level strategy as well as the relationship between metropolitan areas and sports teams. However, do not post code solving aspects of the assignment (including such as dictionaries mapping areas to teams, or regexes which will clean up names).\n",
    "4. There may be more teams than the assert statements test, remember to collapse multiple teams in one city into a single value!\n",
    "\n",
    "As this assignment utilizes global variables in the skeleton code, to avoid having errors in your code you can either:\n",
    "\n",
    "1. You can place all of your code within the function definitions for all of the questions (other than import statements).\n",
    "2. You can create copies of all the global variables with the copy() method and proceed as usual."
   ],
   "metadata": {
    "collapsed": false,
    "pycharm": {
     "name": "#%% md\n"
    }
   }
  },
  {
   "cell_type": "markdown",
   "source": [
    "## Question 1\n",
    "For this question, calculate the win/loss ratio's correlation with the population of the city it is in for the **NHL** using **2018** data."
   ],
   "metadata": {
    "collapsed": false,
    "pycharm": {
     "name": "#%% md\n"
    }
   }
  },
  {
   "cell_type": "code",
   "execution_count": 45,
   "outputs": [
    {
     "data": {
      "text/plain": "0.012486162921209895"
     },
     "execution_count": 45,
     "metadata": {},
     "output_type": "execute_result"
    }
   ],
   "source": [
    "import pandas as pd\n",
    "\n",
    "nhl_df = pd.read_csv(\"assets/nhl.csv\")\n",
    "cities = pd.read_html(\"assets/wikipedia_data.html\")[1]\n",
    "cities = cities.iloc[:-1,[0,3,5,6,7,8]]\n",
    "\n",
    "def clean_nhl_df():\n",
    "    global cities\n",
    "    global nhl_df\n",
    "    cities[\"NHL\"] = cities[\"NHL\"].apply(lambda x: re.sub(r\"\\[.+\\]\", \"\", x).split(\" \"))\n",
    "    # name        scores\n",
    "    # 0  John     [80, 90]\n",
    "    # 1  Alice  [75, 85, 95]\n",
    "    # 2   Bob         [88]\n",
    "\n",
    "    # explode does this. Kind of flattering\n",
    "\n",
    "    #     name scores\n",
    "    # 0  John     80\n",
    "    # 0  John     90\n",
    "    # 1  Alice    75\n",
    "    # 1  Alice    85\n",
    "    # 1  Alice    95\n",
    "    # 2   Bob     88\n",
    "    cities = cities.explode(\"NHL\")\n",
    "    nhl_df = nhl_df[nhl_df[\"year\"] == 2018]\n",
    "    nhl_df[\"team\"] = nhl_df[\"team\"].apply(lambda x: re.sub(r\"\\*\", \"\", x).split(\" \")[-1])\n",
    "\n",
    "    # left_on=\"NHL\", right_on=\"team\" syntax is like\n",
    "    # JOIN nhl_df ON cities.NHL = nhl_df.team;\n",
    "    df = pd.merge(cities, nhl_df, left_on=\"NHL\", right_on=\"team\")\n",
    "    df = df[[\"Metropolitan area\", \"Population (2016 est.)[8]\", \"NHL\", \"team\", \"W\", \"L\"]]\n",
    "    df[\"W\"] = pd.to_numeric(df[\"W\"], errors=\"coerce\")\n",
    "    df[\"L\"] = pd.to_numeric(df[\"L\"], errors=\"coerce\")\n",
    "    df[\"Population (2016 est.)[8]\"] = pd.to_numeric(df[\"Population (2016 est.)[8]\"], errors='coerce')\n",
    "    df[\"W-L%\"] = df.eval(\"W / (W + L)\")\n",
    "\n",
    "    # return the mean by aggregation\n",
    "    return df.groupby('Metropolitan area')[['W-L%', 'Population (2016 est.)[8]']].mean()\n",
    "def nhl_correlation():\n",
    "    df = clean_nhl_df()\n",
    "\n",
    "    population_by_region = df[\"Population (2016 est.)[8]\"] # pass in metropolitan area population from cities\n",
    "    win_loss_by_region = df[\"W-L%\"] # pass in win/loss ratio from nhl_df in the same order as cities[\"Metropolitan area\"]\n",
    "\n",
    "    assert len(population_by_region) == len(win_loss_by_region), \"Q1: Your lists must be the same length\"\n",
    "    assert len(population_by_region) == 28, \"Q1: There should be 28 teams being analysed for NHL\"\n",
    "\n",
    "    return stats.pearsonr(population_by_region, win_loss_by_region)[0]\n",
    "nhl_correlation()"
   ],
   "metadata": {
    "collapsed": false,
    "pycharm": {
     "name": "#%%\n"
    }
   }
  },
  {
   "cell_type": "markdown",
   "source": [
    "## Question 2\n",
    "For this question, calculate the win/loss ratio's correlation with the population of the city it is in for the **NBA** using **2018** data."
   ],
   "metadata": {
    "collapsed": false,
    "pycharm": {
     "name": "#%% md\n"
    }
   }
  },
  {
   "cell_type": "code",
   "execution_count": 47,
   "outputs": [
    {
     "data": {
      "text/plain": "-0.1763635064218294"
     },
     "execution_count": 47,
     "metadata": {},
     "output_type": "execute_result"
    }
   ],
   "source": [
    "import pandas as pd\n",
    "\n",
    "nba_df=pd.read_csv(\"assets/nba.csv\")\n",
    "cities=pd.read_html(\"assets/wikipedia_data.html\")[1]\n",
    "cities=cities.iloc[:-1,[0,3,5,6,7,8]]\n",
    "\n",
    "def clean_nba_df():\n",
    "    global nba_df\n",
    "    global cities\n",
    "\n",
    "    # cleaning the cities dataframe\n",
    "    cities[\"NBA\"] = cities[\"NBA\"].apply(lambda x: re.sub(r\"\\[.+\\]\", \"\", x)\n",
    "                                        .split(\" \"))\n",
    "    cities = cities.explode(\"NBA\")\n",
    "    # cleaning the nhl_df dataframe\n",
    "    nba_df = nba_df[nba_df[\"year\"] == 2018]\n",
    "    nba_df[\"team\"] = nba_df[\"team\"].apply(lambda x: re.sub(r\"(\\*)*\\s\\(\\d+\\)\", \"\", x).split(\" \")[-1])\n",
    "\n",
    "    # merge the dataframes\n",
    "    df = pd.merge(cities, nba_df, left_on=\"NBA\", right_on=\"team\")\n",
    "    df = df.rename(columns={\"W/L%\": \"W-L%\"})\n",
    "    df = df[[\"Metropolitan area\", \"Population (2016 est.)[8]\", \"NBA\", \"team\", \"W\", \"L\", \"W-L%\"]]\n",
    "    df[\"Population (2016 est.)[8]\"] = df[\"Population (2016 est.)[8]\"].astype(\"float\")\n",
    "    df[\"W-L%\"] = df[\"W-L%\"].astype(\"float\")\n",
    "    df[\"W-L%\"] = pd.to_numeric(df[\"W-L%\"], errors=\"coerce\")\n",
    "\n",
    "\n",
    "    # return the mean by aggregation\n",
    "    return df.groupby('Metropolitan area')[['W-L%', 'Population (2016 est.)[8]']].mean()\n",
    "\n",
    "def nba_correlation():\n",
    "    df = clean_nba_df()\n",
    "\n",
    "    population_by_region = df[\"Population (2016 est.)[8]\"] # pass in metropolitan area population from cities\n",
    "    win_loss_by_region = df[\"W-L%\"] # pass in win/loss ratio from nhl_df in the same order as cities[\"Metropolitan area\"]\n",
    "    assert len(population_by_region) == len(win_loss_by_region), \"Q2: Your lists must be the same length\"\n",
    "    assert len(population_by_region) == 28, \"Q2: There should be 28 teams being analysed for NBA\"\n",
    "\n",
    "    return stats.pearsonr(population_by_region, win_loss_by_region)[0]\n",
    "\n",
    "nba_correlation()"
   ],
   "metadata": {
    "collapsed": false,
    "pycharm": {
     "name": "#%%\n"
    }
   }
  },
  {
   "cell_type": "markdown",
   "source": [
    "## Question 3\n",
    "For this question, calculate the win/loss ratio's correlation with the population of the city it is in for the **MLB** using **2018** data."
   ],
   "metadata": {
    "collapsed": false,
    "pycharm": {
     "name": "#%% md\n"
    }
   }
  },
  {
   "cell_type": "code",
   "execution_count": 164,
   "outputs": [
    {
     "data": {
      "text/plain": "0.150037374754095"
     },
     "execution_count": 164,
     "metadata": {},
     "output_type": "execute_result"
    }
   ],
   "source": [
    "import pandas as pd\n",
    "\n",
    "mlb_df=pd.read_csv(\"assets/mlb.csv\")\n",
    "cities=pd.read_html(\"assets/wikipedia_data.html\")[1]\n",
    "cities=cities.iloc[:-1,[0,3,5,6,7,8]]\n",
    "\n",
    "def clean_mlb_df():\n",
    "    global mlb_df\n",
    "    global cities\n",
    "\n",
    "    # Nasty nasty. White Sox and Red Sox. One is from chicago and the other is from boston\n",
    "    mlb_df[\"team\"] = mlb_df[\"team\"].apply(lambda x: re.sub(r\"\\sSox\", \"-Sox\", x))\n",
    "    cities[\"MLB\"] = cities[\"MLB\"].apply(lambda x: re.sub(r\"\\sSox\", \"-Sox\", x))\n",
    "\n",
    "\n",
    "    # cleaning the cities dataframe\n",
    "    cities[\"MLB\"] = cities[\"MLB\"].apply(lambda x: re.sub(r\"\\[.+\\]\", \"\", x).split(\" \"))\n",
    "    cities = cities.explode(\"MLB\")\n",
    "\n",
    "    # cleaning the nhl_df dataframe\n",
    "    mlb_df = mlb_df[mlb_df[\"year\"] == 2018]\n",
    "\n",
    "    mlb_df[\"team\"] = mlb_df[\"team\"].apply(lambda x: x.split(\" \")[-1])\n",
    "\n",
    "    # merge the dataframes\n",
    "    df = pd.merge(cities, mlb_df, left_on=\"MLB\", right_on=\"team\")\n",
    "\n",
    "    df = df[[\"Metropolitan area\", \"Population (2016 est.)[8]\", \"MLB\", \"team\", \"W\", \"L\", \"W-L%\"]]\n",
    "    df[\"Population (2016 est.)[8]\"] = df[\"Population (2016 est.)[8]\"].astype(\"float\")\n",
    "    df[\"W-L%\"] = pd.to_numeric(df[\"W-L%\"], errors=\"coerce\")\n",
    "\n",
    "    # return the mean by aggregation\n",
    "    return df.groupby('Metropolitan area')[['W-L%', 'Population (2016 est.)[8]']].mean()\n",
    "\n",
    "def mlb_correlation():\n",
    "    df = clean_mlb_df()\n",
    "\n",
    "    population_by_region = df[\"Population (2016 est.)[8]\"] # pass in metropolitan area population from cities\n",
    "    win_loss_by_region = df[\"W-L%\"] # pass in win/loss ratio from mlb_df in the same order as cities[\"Metropolitan area\"]\n",
    "\n",
    "    assert len(population_by_region) == len(win_loss_by_region), \"Q3: Your lists must be the same length\"\n",
    "    assert len(population_by_region) == 26, \"Q3: There should be 26 teams being analysed for MLB\"\n",
    "    return stats.pearsonr(population_by_region, win_loss_by_region)[0]\n",
    "mlb_correlation()"
   ],
   "metadata": {
    "collapsed": false,
    "pycharm": {
     "name": "#%%\n"
    }
   }
  },
  {
   "cell_type": "markdown",
   "source": [
    "## Question 4\n",
    "For this question, calculate the win/loss ratio's correlation with the population of the city it is in for the **NFL** using **2018** data."
   ],
   "metadata": {
    "collapsed": false,
    "pycharm": {
     "name": "#%% md\n"
    }
   }
  },
  {
   "cell_type": "code",
   "execution_count": 136,
   "outputs": [
    {
     "data": {
      "text/plain": "0.00428214143639298"
     },
     "execution_count": 136,
     "metadata": {},
     "output_type": "execute_result"
    }
   ],
   "source": [
    "import pandas as pd\n",
    "\n",
    "nfl_df=pd.read_csv(\"assets/nfl.csv\")\n",
    "cities=pd.read_html(\"assets/wikipedia_data.html\")[1]\n",
    "cities=cities.iloc[:-1,[0,3,5,6,7,8]]\n",
    "\n",
    "def clean_nfl_df():\n",
    "    global nfl_df\n",
    "    global cities\n",
    "\n",
    "    # cleaning the cities dataframe\n",
    "    cities[\"NFL\"] = cities[\"NFL\"].apply(lambda x: re.sub(r\"\\[.+\\]\", \"\", x).split(\" \"))\n",
    "    cities = cities.explode(\"NFL\")\n",
    "\n",
    "    # cleaning the nhl_df dataframe\n",
    "    nfl_df = nfl_df[nfl_df[\"year\"] == 2018]\n",
    "    nfl_df[\"team\"] = nfl_df[\"team\"].apply(lambda x: re.sub(r\"(\\*|\\+)\", \"\", x))\n",
    "    nfl_df[\"team\"] = nfl_df[\"team\"].apply(lambda x: x.split(\" \")[-1])\n",
    "\n",
    "    # merge the dataframes\n",
    "    df = pd.merge(cities, nfl_df, left_on=\"NFL\", right_on=\"team\")\n",
    "    df = df[[\"Metropolitan area\", \"Population (2016 est.)[8]\", \"NFL\", \"team\", \"W\", \"L\", \"W-L%\"]]\n",
    "    df[\"Population (2016 est.)[8]\"] = pd.to_numeric(df[\"Population (2016 est.)[8]\"], errors=\"coerce\")\n",
    "    df[\"W-L%\"] = pd.to_numeric(df[\"W-L%\"], errors=\"coerce\")\n",
    "\n",
    "\n",
    "    df.loc[df[\"Metropolitan area\"] == \"New York City\", \"W-L%\"] = 0.2815 # mean of NY W-L%\n",
    "    df.loc[df[\"Metropolitan area\"] == \"Los Angeles\", \"W-L%\"] = 0.7815 # mean of LA W-L%\n",
    "    df.loc[df[\"Metropolitan area\"] == \"San Francisco Bay Area\", \"W-L%\"] = 0.25 # mean of SF W-L%\n",
    "    # return the mean by aggregation\n",
    "    return df.groupby('Metropolitan area')[['W-L%', 'Population (2016 est.)[8]']].mean()\n",
    "\n",
    "def nfl_correlation():\n",
    "    df = clean_nfl_df()\n",
    "    population_by_region = df[\"Population (2016 est.)[8]\"] # pass in metropolitan area population from cities\n",
    "    win_loss_by_region = df[\"W-L%\"] # pass in win/loss ratio from nfl_df in the same order as cities[\"Metropolitan area\"]\n",
    "\n",
    "\n",
    "    assert len(population_by_region) == len(win_loss_by_region), \"Q4: Your lists must be the same length\"\n",
    "    assert len(population_by_region) == 29, \"Q4: There should be 29 teams being analysed for NFL\"\n",
    "\n",
    "    return stats.pearsonr(population_by_region, win_loss_by_region)[0]\n",
    "nfl_correlation()"
   ],
   "metadata": {
    "collapsed": false,
    "pycharm": {
     "name": "#%%\n"
    }
   }
  },
  {
   "cell_type": "markdown",
   "source": [
    "## Question 5\n",
    "In this question I would like you to explore the hypothesis that **given that an area has two sports teams in different sports, those teams will perform the same within their respective sports**. How I would like to see this explored is with a series of paired t-tests (so use [`ttest_rel`](https://docs.scipy.org/doc/scipy/reference/generated/scipy.stats.ttest_rel.html)) between all pairs of sports. Are there any sports where we can reject the null hypothesis? Again, average values where a sport has multiple teams in one region. Remember, you will only be including, for each sport, cities which have teams engaged in that sport, drop others as appropriate. This question is worth 20% of the grade for this assignment."
   ],
   "metadata": {
    "collapsed": false,
    "pycharm": {
     "name": "#%% md\n"
    }
   }
  },
  {
   "cell_type": "code",
   "execution_count": 165,
   "outputs": [
    {
     "data": {
      "text/plain": "          NFL       NBA       NHL       MLB\nNFL       NaN  0.937509  0.030318  0.803459\nNBA  0.937509       NaN  0.022386  0.949566\nNHL  0.030318  0.022386       NaN  0.000703\nMLB  0.803459  0.949566  0.000703       NaN",
      "text/html": "<div>\n<style scoped>\n    .dataframe tbody tr th:only-of-type {\n        vertical-align: middle;\n    }\n\n    .dataframe tbody tr th {\n        vertical-align: top;\n    }\n\n    .dataframe thead th {\n        text-align: right;\n    }\n</style>\n<table border=\"1\" class=\"dataframe\">\n  <thead>\n    <tr style=\"text-align: right;\">\n      <th></th>\n      <th>NFL</th>\n      <th>NBA</th>\n      <th>NHL</th>\n      <th>MLB</th>\n    </tr>\n  </thead>\n  <tbody>\n    <tr>\n      <th>NFL</th>\n      <td>NaN</td>\n      <td>0.937509</td>\n      <td>0.030318</td>\n      <td>0.803459</td>\n    </tr>\n    <tr>\n      <th>NBA</th>\n      <td>0.937509</td>\n      <td>NaN</td>\n      <td>0.022386</td>\n      <td>0.949566</td>\n    </tr>\n    <tr>\n      <th>NHL</th>\n      <td>0.030318</td>\n      <td>0.022386</td>\n      <td>NaN</td>\n      <td>0.000703</td>\n    </tr>\n    <tr>\n      <th>MLB</th>\n      <td>0.803459</td>\n      <td>0.949566</td>\n      <td>0.000703</td>\n      <td>NaN</td>\n    </tr>\n  </tbody>\n</table>\n</div>"
     },
     "execution_count": 165,
     "metadata": {},
     "output_type": "execute_result"
    }
   ],
   "source": [
    "import pandas as pd\n",
    "import scipy.stats as stats\n",
    "import re\n",
    "\n",
    "def calculate_p_values(leagues):\n",
    "    p_values = pd.DataFrame(columns=leagues.keys(), index=leagues.keys())\n",
    "    for i in leagues:\n",
    "        for j in leagues:\n",
    "            if i !=j :\n",
    "                merge=pd.merge(leagues[i],leagues[j], 'inner', left_index=True, right_index=True)\n",
    "                rel = stats.ttest_rel(merge['W-L%_x'], merge['W-L%_y'])\n",
    "                p_values.loc[i, j]= rel[1]\n",
    "    return p_values\n",
    "\n",
    "\n",
    "def sports_team_performance():\n",
    "    leagues = {\"NFL\": clean_nfl_df(), \"NBA\": clean_nba_df(), \"NHL\": clean_nhl_df(), \"MLB\": clean_mlb_df()}\n",
    "    p_values = calculate_p_values(leagues)\n",
    "\n",
    "    # Note: p_values is a full dataframe, so df.loc[\"NFL\",\"NBA\"] should be the same as df.loc[\"NBA\",\"NFL\"] and\n",
    "    # df.loc[\"NFL\",\"NFL\"] should return np.nan\n",
    "    # sports = ['NFL', 'NBA', 'NHL', 'MLB']\n",
    "    # p_values = pd.DataFrame({k:np.nan for k in sports}, index=sports)\n",
    "\n",
    "    assert abs(p_values.loc[\"NBA\", \"NHL\"] - 0.02) <= 1e-2, \"The NBA-NHL p-value should be around 0.02\"\n",
    "    assert abs(p_values.loc[\"MLB\", \"NFL\"] - 0.80) <= 1e-2, \"The MLB-NFL p-value should be around 0.80\"\n",
    "    return p_values\n",
    "sports_team_performance()"
   ],
   "metadata": {
    "collapsed": false,
    "pycharm": {
     "name": "#%%\n"
    }
   }
  },
  {
   "cell_type": "code",
   "execution_count": null,
   "outputs": [],
   "source": [],
   "metadata": {
    "collapsed": false,
    "pycharm": {
     "name": "#%%\n"
    }
   }
  }
 ],
 "metadata": {
  "kernelspec": {
   "display_name": "Python 3",
   "language": "python",
   "name": "python3"
  },
  "language_info": {
   "codemirror_mode": {
    "name": "ipython",
    "version": 2
   },
   "file_extension": ".py",
   "mimetype": "text/x-python",
   "name": "python",
   "nbconvert_exporter": "python",
   "pygments_lexer": "ipython2",
   "version": "2.7.6"
  }
 },
 "nbformat": 4,
 "nbformat_minor": 0
}