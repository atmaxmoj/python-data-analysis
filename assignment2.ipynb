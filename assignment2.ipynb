{
 "cells": [
  {
   "cell_type": "markdown",
   "source": [
    "# Assignment 2\n",
    "\n",
    "For this assignment you'll be looking at 2017 data on immunizations from the CDC. Your datafile for this assignment is in [assets/NISPUF17.csv](assets/NISPUF17.csv). A data users guide for this, which you'll need to map the variables in the data to the questions being asked, is available at [assets/NIS-PUF17-DUG.pdf](assets/NIS-PUF17-DUG.pdf). **Note: you may have to go to your Jupyter tree (click on the Coursera image) and navigate to the assignment 2 assets folder to see this PDF file).**"
   ],
   "metadata": {
    "collapsed": false,
    "pycharm": {
     "name": "#%% md\n"
    }
   }
  },
  {
   "cell_type": "markdown",
   "source": [
    "## Question 1\n",
    "Write a function called `proportion_of_education` which returns the proportion of children in the dataset who had a mother with the education levels equal to less than high school (<12), high school (12), more than high school but not a college graduate (>12) and college degree.\n",
    "\n",
    "*This function should return a dictionary in the form of (use the correct numbers, do not round numbers):*\n",
    "```\n",
    "    {\"less than high school\":0.2,\n",
    "    \"high school\":0.4,\n",
    "    \"more than high school but not college\":0.2,\n",
    "    \"college\":0.2}\n",
    "```"
   ],
   "metadata": {
    "collapsed": false,
    "pycharm": {
     "name": "#%% md\n"
    }
   }
  },
  {
   "cell_type": "code",
   "execution_count": 18,
   "outputs": [
    {
     "name": "stdout",
     "output_type": "stream",
     "text": [
      "EDUC1\n",
      "4    0.479747\n",
      "3    0.245881\n",
      "2    0.172352\n",
      "1    0.102020\n",
      "Name: proportion, dtype: float64\n"
     ]
    },
    {
     "data": {
      "text/plain": "{'less than high school': 0.10202002459160373,\n 'high school': 0.172352011241876,\n 'more than high school but not college': 0.24588090637625154,\n 'college': 0.47974705779026877}"
     },
     "execution_count": 18,
     "metadata": {},
     "output_type": "execute_result"
    }
   ],
   "source": [
    "import pandas as pd\n",
    "def proportion_of_education():\n",
    "    # index_col=0 here says which column works like our index here\n",
    "    df = pd.read_csv('assets/NISPUF17.csv', index_col=0)\n",
    "\n",
    "    # This is useed to get the column 'EDUC1' and value_counts(normalize=True) counts the\n",
    "    # frequency of the each value in the column, which are 1, 2, 3, 4\n",
    "    EDUC1 = df['EDUC1'].value_counts(normalize=True)\n",
    "    EDUC1_dict = {\"less than high school\": EDUC1.iloc[3],\n",
    "                   \"high school\": EDUC1.iloc[2],\n",
    "                   \"more than high school but not college\": EDUC1.iloc[1],\n",
    "                   \"college\": EDUC1.iloc[0]}\n",
    "    return EDUC1_dict\n",
    "proportion_of_education()"
   ],
   "metadata": {
    "collapsed": false,
    "pycharm": {
     "name": "#%%\n"
    }
   }
  },
  {
   "cell_type": "code",
   "execution_count": 12,
   "outputs": [],
   "source": [
    "assert type(proportion_of_education())==type({}), \"You must return a dictionary.\"\n",
    "assert len(proportion_of_education()) == 4, \"You have not returned a dictionary with four items in it.\"\n",
    "assert \"less than high school\" in proportion_of_education().keys(), \"You have not returned a dictionary with the correct keys.\"\n",
    "assert \"high school\" in proportion_of_education().keys(), \"You have not returned a dictionary with the correct keys.\"\n",
    "assert \"more than high school but not college\" in proportion_of_education().keys(), \"You have not returned a dictionary with the correct keys.\"\n",
    "assert \"college\" in proportion_of_education().keys(), \"You have not returned a dictionary with the correct keys.\""
   ],
   "metadata": {
    "collapsed": false,
    "pycharm": {
     "name": "#%%\n"
    }
   }
  },
  {
   "cell_type": "markdown",
   "source": [
    "## Question 2\n",
    "\n",
    "Let's explore the relationship between being fed breastmilk as a child and getting a seasonal influenza vaccine from a healthcare provider. Return a tuple of the average number of influenza vaccines for those children we know received breastmilk as a child and those who know did not.\n",
    "\n",
    "*This function should return a tuple in the form (use the correct numbers:*\n",
    "```\n",
    "(2.5, 0.1)\n",
    "```\n"
   ],
   "metadata": {
    "collapsed": false,
    "pycharm": {
     "name": "#%% md\n"
    }
   }
  },
  {
   "cell_type": "code",
   "execution_count": 23,
   "outputs": [
    {
     "data": {
      "text/plain": "(1.8799187420058687, 1.5963945918878317)"
     },
     "execution_count": 23,
     "metadata": {},
     "output_type": "execute_result"
    }
   ],
   "source": [
    "def average_influenza_doses():\n",
    "    df = pd.read_csv('assets/NISPUF17.csv')\n",
    "    # meaning to pick the rows in df where the value of column CBF_01 == 1\n",
    "    df1 = df[df[\"CBF_01\"] == 1]\n",
    "    df2 = df[df[\"CBF_01\"] == 2]\n",
    "    return (df1[\"P_NUMFLU\"].mean(), df2[\"P_NUMFLU\"].mean())\n",
    "average_influenza_doses()"
   ],
   "metadata": {
    "collapsed": false,
    "pycharm": {
     "name": "#%%\n"
    }
   }
  },
  {
   "cell_type": "code",
   "execution_count": 24,
   "outputs": [],
   "source": [
    "assert len(average_influenza_doses())==2, \"Return two values in a tuple, the first for yes and the second for no.\""
   ],
   "metadata": {
    "collapsed": false,
    "pycharm": {
     "name": "#%%\n"
    }
   }
  },
  {
   "cell_type": "markdown",
   "source": [
    "## Question 3\n",
    "It would be interesting to see if there is any evidence of a link between vaccine effectiveness and sex of the child. Calculate the ratio of the number of children who contracted chickenpox but were vaccinated against it (at least one varicella dose) versus those who were vaccinated but did not contract chicken pox. Return results by sex.\n",
    "\n",
    "*This function should return a dictionary in the form of (use the correct numbers):*\n",
    "```\n",
    "    {\"male\":0.2,\n",
    "    \"female\":0.4}\n",
    "```\n",
    "\n",
    "Note: To aid in verification, the `chickenpox_by_sex()['female']` value the autograder is looking for starts with the digits `0.0077`."
   ],
   "metadata": {
    "collapsed": false,
    "pycharm": {
     "name": "#%% md\n"
    }
   }
  },
  {
   "cell_type": "code",
   "execution_count": 35,
   "outputs": [
    {
     "name": "stdout",
     "output_type": "stream",
     "text": [
      "   Unnamed: 0  SEQNUMC  SEQNUMHH  PDAT    PROVWT_D     RDDWT_D  STRATUM  YEAR  \\\n",
      "0           1   128521     12852     2         NaN  235.916956     1031  2017   \n",
      "1           2    10741      1074     2         NaN  957.353840     1068  2017   \n",
      "2           3   220011     22001     2         NaN  189.611299     1050  2017   \n",
      "3           4    86131      8613     1  675.430817  333.447418     1040  2017   \n",
      "4           5   227141     22714     1  482.617748  278.768063     1008  2017   \n",
      "\n",
      "   AGECPOXR  HAD_CPOX  ...  XVRCTY2  XVRCTY3  XVRCTY4  XVRCTY5  XVRCTY6  \\\n",
      "0       NaN         2  ...                        NaN      NaN      NaN   \n",
      "1       NaN         2  ...                        NaN      NaN      NaN   \n",
      "2       NaN         2  ...                        NaN      NaN      NaN   \n",
      "3       NaN         2  ...                        NaN      NaN      NaN   \n",
      "4       NaN         2  ...                        NaN      NaN      NaN   \n",
      "\n",
      "   XVRCTY7  XVRCTY8  XVRCTY9  INS_STAT2_I  INS_BREAK_I  \n",
      "0      NaN      NaN      NaN          NaN          NaN  \n",
      "1      NaN      NaN      NaN          NaN          NaN  \n",
      "2      NaN      NaN      NaN          NaN          NaN  \n",
      "3      NaN      NaN      NaN          1.0          2.0  \n",
      "4      NaN      NaN      NaN          2.0          1.0  \n",
      "\n",
      "[5 rows x 454 columns]\n",
      "   SEQNUMC  SEQNUMHH  PDAT    PROVWT_D     RDDWT_D  STRATUM  YEAR  AGECPOXR  \\\n",
      "1   128521     12852     2         NaN  235.916956     1031  2017       NaN   \n",
      "2    10741      1074     2         NaN  957.353840     1068  2017       NaN   \n",
      "3   220011     22001     2         NaN  189.611299     1050  2017       NaN   \n",
      "4    86131      8613     1  675.430817  333.447418     1040  2017       NaN   \n",
      "5   227141     22714     1  482.617748  278.768063     1008  2017       NaN   \n",
      "\n",
      "   HAD_CPOX  AGEGRP  ...  XVRCTY2  XVRCTY3  XVRCTY4  XVRCTY5  XVRCTY6  \\\n",
      "1         2       1  ...                        NaN      NaN      NaN   \n",
      "2         2       1  ...                        NaN      NaN      NaN   \n",
      "3         2       3  ...                        NaN      NaN      NaN   \n",
      "4         2       1  ...                        NaN      NaN      NaN   \n",
      "5         2       1  ...                        NaN      NaN      NaN   \n",
      "\n",
      "   XVRCTY7  XVRCTY8  XVRCTY9  INS_STAT2_I  INS_BREAK_I  \n",
      "1      NaN      NaN      NaN          NaN          NaN  \n",
      "2      NaN      NaN      NaN          NaN          NaN  \n",
      "3      NaN      NaN      NaN          NaN          NaN  \n",
      "4      NaN      NaN      NaN          1.0          2.0  \n",
      "5      NaN      NaN      NaN          2.0          1.0  \n",
      "\n",
      "[5 rows x 453 columns]\n"
     ]
    },
    {
     "data": {
      "text/plain": "{'male': 0.009675583380762664, 'female': 0.0077918259335489565}"
     },
     "execution_count": 35,
     "metadata": {},
     "output_type": "execute_result"
    }
   ],
   "source": [
    "def chickenpox_by_sex():\n",
    "    df = pd.read_csv('assets/NISPUF17.csv', index_col=0)\n",
    "    print(df.head())\n",
    "\n",
    "    df = df[[\"SEX\", \"HAD_CPOX\", \"P_NUMVRC\"]].dropna()\n",
    "    df = df[df[\"P_NUMVRC\"] > 0]\n",
    "\n",
    "    male_df = df[df[\"SEX\"] == 1]\n",
    "    female_df = df[df[\"SEX\"] == 2]\n",
    "\n",
    "    female_chickenpox = female_df[(female_df[\"HAD_CPOX\"] == 1) & (female_df[\"P_NUMVRC\"] >= 1)]\n",
    "    female_non_chickenpox = female_df[(female_df[\"HAD_CPOX\"] == 2) & (female_df[\"P_NUMVRC\"] >= 1)]\n",
    "\n",
    "    male_ratio = len(male_df[male_df[\"HAD_CPOX\"] == 1])/len(male_df[male_df[\"HAD_CPOX\"] == 2])\n",
    "    female_ratio = len(female_df[female_df[\"HAD_CPOX\"] == 1])/len(female_df[female_df[\"HAD_CPOX\"] == 2])\n",
    "\n",
    "    return {\"male\": male_ratio, \"female\": female_ratio}\n",
    "chickenpox_by_sex()"
   ],
   "metadata": {
    "collapsed": false,
    "pycharm": {
     "name": "#%%\n"
    }
   }
  },
  {
   "cell_type": "code",
   "execution_count": 27,
   "outputs": [],
   "source": [
    "assert len(chickenpox_by_sex())==2, \"Return a dictionary with two items, the first for males and the second for females.\""
   ],
   "metadata": {
    "collapsed": false,
    "pycharm": {
     "name": "#%%\n"
    }
   }
  },
  {
   "cell_type": "markdown",
   "source": [
    "## Question 4\n",
    "A correlation is a statistical relationship between two variables. If we wanted to know if vaccines work, we might look at the correlation between the use of the vaccine and whether it results in prevention of the infection or disease [1]. In this question, you are to see if there is a correlation between having had the chicken pox and the number of chickenpox vaccine doses given (varicella).\n",
    "\n",
    "Some notes on interpreting the answer. The `had_chickenpox_column` is either `1` (for yes) or `2` (for no), and the `num_chickenpox_vaccine_column` is the number of doses a child has been given of the varicella vaccine. A positive correlation (e.g., `corr > 0`) means that an increase in `had_chickenpox_column` (which means more no’s) would also increase the values of `num_chickenpox_vaccine_column` (which means more doses of vaccine). If there is a negative correlation (e.g., `corr < 0`), it indicates that having had chickenpox is related to an increase in the number of vaccine doses.\n",
    "\n",
    "Also, `pval` is the probability that we observe a correlation between `had_chickenpox_column` and `num_chickenpox_vaccine_column` which is greater than or equal to a particular value occurred by chance. A small `pval` means that the observed correlation is highly unlikely to occur by chance. In this case, `pval` should be very small (will end in `e-18` indicating a very small number).\n",
    "\n",
    "[1] This isn’t really the full picture, since we are not looking at when the dose was given. It’s possible that children had chickenpox and then their parents went to get them the vaccine. Does this dataset have the data we would need to investigate the timing of the dose?"
   ],
   "metadata": {
    "collapsed": false,
    "pycharm": {
     "name": "#%% md\n"
    }
   }
  },
  {
   "cell_type": "code",
   "execution_count": 31,
   "outputs": [
    {
     "data": {
      "text/plain": "0.0704487346014783"
     },
     "execution_count": 31,
     "metadata": {},
     "output_type": "execute_result"
    }
   ],
   "source": [
    "import scipy.stats as stats\n",
    "def corr_chickenpox():\n",
    "\n",
    "    df = pd.read_csv('assets/NISPUF17.csv', index_col=0)\n",
    "    df = df[df[\"HAD_CPOX\"] <= 2]\n",
    "    df = df[~df[\"P_NUMVRC\"].isna() & ~df[\"HAD_CPOX\"].isna()]\n",
    "\n",
    "    # here is some stub code to actually run the correlation\n",
    "    corr, pval=stats.pearsonr(df[\"HAD_CPOX\"], df[\"P_NUMVRC\"])\n",
    "    # just return the correlation\n",
    "    return corr\n",
    "corr_chickenpox()"
   ],
   "metadata": {
    "collapsed": false,
    "pycharm": {
     "name": "#%%\n"
    }
   }
  },
  {
   "cell_type": "code",
   "execution_count": 30,
   "outputs": [],
   "source": [
    "assert -1<=corr_chickenpox()<=1, \"You must return a float number between -1.0 and 1.0.\""
   ],
   "metadata": {
    "collapsed": false,
    "pycharm": {
     "name": "#%%\n"
    }
   }
  }
 ],
 "metadata": {
  "kernelspec": {
   "display_name": "Python 3",
   "language": "python",
   "name": "python3"
  },
  "language_info": {
   "codemirror_mode": {
    "name": "ipython",
    "version": 2
   },
   "file_extension": ".py",
   "mimetype": "text/x-python",
   "name": "python",
   "nbconvert_exporter": "python",
   "pygments_lexer": "ipython2",
   "version": "2.7.6"
  }
 },
 "nbformat": 4,
 "nbformat_minor": 0
}